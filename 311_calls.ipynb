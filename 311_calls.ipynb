{
 "cells": [
  {
   "cell_type": "code",
   "execution_count": null,
   "metadata": {},
   "outputs": [],
   "source": [
    "import pandas as pd\n",
    "import numpy as np\n",
    "import datetime as dt\n",
    "import matplotlib.pyplot as plt\n",
    "import matplotlib\n",
    "import cufflinks as cf\n",
    "import plotly\n",
    "import plotly.offline as py\n",
    "import plotly.graph_objs as go\n",
    "import plotly.express as px\n",
    "import seaborn as sns\n",
    "import random\n",
    "import plotly.io as pio\n",
    "import missingno as msno\n",
    "\n",
    "cf.go_offline() # required to use plotly offline (no account required).\n",
    "py.init_notebook_mode() # graphs charts inline (IPython)."
   ]
  },
  {
   "cell_type": "markdown",
   "metadata": {},
   "source": [
    "## Data Cleaning"
   ]
  },
  {
   "cell_type": "code",
   "execution_count": null,
   "metadata": {},
   "outputs": [],
   "source": [
    "# Run once to query data from 2016 to present\n",
    "'''\n",
    "url = \"https://data.cityofnewyork.us/resource/erm2-nwe9.json\"\n",
    "\n",
    "# data_url='data.cityofnewyork.us'    # The Host Name for the API endpoint (the https:// part will be added automatically)\n",
    "# data_set='5ymf-xnx3'    # The data set at the API endpoint (311 data in this case)\n",
    "# app_token='XXXXX'   # The app token created in the prior steps\n",
    "client = Socrata(data_url,app_token)      # Create the client to point to the API endpoint\n",
    "# Set the timeout to 1000 seconds    \n",
    "client.timeout = 1000\n",
    "# Retrieve the first 2000 results returned as JSON object from the API\n",
    "# The SoDaPy library converts this JSON object to a Python list of dictionaries\n",
    "results = client.get(data_set, where=\"created_date>='2016-01-01T00:00:00.000'\", limit=156_000)\n",
    "\n",
    "# Convert the list of dictionaries to a Pandas data frame\n",
    "df = pd.DataFrame.from_records(results)\n",
    "\n",
    "df.to_csv('311_Service_Requests_from_2010_to_Present.csv', index=False)\n",
    "'''"
   ]
  },
  {
   "cell_type": "code",
   "execution_count": null,
   "metadata": {},
   "outputs": [],
   "source": [
    "call311 = pd.read_csv('311_Service_Requests_from_2010_to_Present.csv')\n",
    "\n",
    "# convert cols to datetime format\n",
    "\n",
    "call311['Created Date'] = pd.to_datetime(call311['Created Date'], format='%m/%d/%Y %I:%M:%S %p', errors='ignore')\n",
    "call311['Closed Date'] = pd.to_datetime(call311['Closed Date'], format='%m/%d/%Y %I:%M:%S %p', errors='ignore')\n",
    "\n",
    "# filter to 2016 to now\n",
    "call311 = call311[call311['Created Date']>=dt.datetime(2016, 1, 1, 0, 0)]\n",
    "call311.sort_values(by=['Created Date'], inplace=True)\n",
    "\n",
    "call311.head()"
   ]
  },
  {
   "cell_type": "code",
   "execution_count": null,
   "metadata": {},
   "outputs": [],
   "source": [
    "call311.info()"
   ]
  },
  {
   "cell_type": "code",
   "execution_count": null,
   "metadata": {},
   "outputs": [],
   "source": [
    "call311.isnull().sum()/len(call311)*100"
   ]
  },
  {
   "cell_type": "code",
   "execution_count": null,
   "metadata": {},
   "outputs": [],
   "source": [
    "# drop cols with predominantly null values and based on data dict understanding\n",
    "call311 = call311.drop([\"Descriptor\", \"Intersection Street 1\", \"Intersection Street 2\", \"Landmark\",\"Facility Type\",\\\n",
    "                        \"Due Date\", \"BBL\", \"X Coordinate (State Plane)\", \"Y Coordinate (State Plane)\", \\\n",
    "                        \"Taxi Pick Up Location\",\"Taxi Company Borough\", \"Vehicle Type\",\"Bridge Highway Name\", \"Bridge Highway Direction\", \\\n",
    "                        \"Bridge Highway Segment\", \"Road Ramp\"],axis=1)"
   ]
  },
  {
   "cell_type": "code",
   "execution_count": null,
   "metadata": {},
   "outputs": [],
   "source": [
    "call311.isnull().sum() / len(call311)*100"
   ]
  },
  {
   "cell_type": "code",
   "execution_count": null,
   "metadata": {},
   "outputs": [],
   "source": [
    "# visualize missing data (white spaces)\n",
    "msno.matrix(call311)"
   ]
  },
  {
   "cell_type": "code",
   "execution_count": null,
   "metadata": {},
   "outputs": [],
   "source": [
    "# duplicate original complaint type col\n",
    "call311['Complaint Type Original'] = call311['Complaint Type']\n",
    "\n",
    "# consolidate complaint types\n",
    "call311['Complaint Type'] = call311['Complaint Type'].replace({'Noise - Residential':'Noise', 'Noise - Vehicle':'Noise',\\\n",
    "                                                               'Noise - Commercial':'Noise','Noise - Street/Sidewalk':'Noise',\\\n",
    "                                                               'Noise - Park':'Noise', 'Noise - House of Worship':'Noise', 'Noise - Helicopter':'Noise',\\\n",
    "                                                               'Collection Truck Noise':'Noise'})\n",
    "# renamed unspecified noise type\n",
    "call311['Complaint Type Original'] = call311['Complaint Type Original'].replace({'Noise':'Noise - Unspecified'})"
   ]
  },
  {
   "cell_type": "code",
   "execution_count": null,
   "metadata": {},
   "outputs": [],
   "source": [
    "# featurize datetime column\n",
    "call311['Day of Week'] = call311['Created Date'].dt.dayofweek\n",
    "call311['Hour'] = call311['Created Date'].dt.hour\n",
    "call311['Month'] = call311['Created Date'].dt.month\n",
    "call311['Day'] = call311['Created Date'].dt.day\n",
    "\n",
    "call311.head(5)"
   ]
  },
  {
   "cell_type": "code",
   "execution_count": null,
   "metadata": {},
   "outputs": [],
   "source": [
    "call311['Incident Zip']"
   ]
  },
  {
   "cell_type": "code",
   "execution_count": null,
   "metadata": {},
   "outputs": [],
   "source": [
    "'11210-000'.split('-')"
   ]
  },
  {
   "cell_type": "code",
   "execution_count": null,
   "metadata": {},
   "outputs": [],
   "source": [
    "# clean up incident zipcode\n",
    "\n",
    "(call311['Incident Zip'].str.split('-'))\n"
   ]
  },
  {
   "cell_type": "code",
   "execution_count": null,
   "metadata": {},
   "outputs": [],
   "source": [
    "call311.shape"
   ]
  },
  {
   "cell_type": "code",
   "execution_count": null,
   "metadata": {},
   "outputs": [],
   "source": [
    "# export data\n",
    "call311.to_csv('311_filtered.csv', index=False)"
   ]
  },
  {
   "cell_type": "markdown",
   "metadata": {},
   "source": [
    "## EDA\n",
    "### Overall trends and statistics"
   ]
  },
  {
   "cell_type": "code",
   "execution_count": null,
   "metadata": {},
   "outputs": [],
   "source": [
    "df = pd.read_csv('311_filtered.csv',dtype={'Incident Zipcode':'str'})"
   ]
  },
  {
   "cell_type": "code",
   "execution_count": null,
   "metadata": {},
   "outputs": [],
   "source": [
    "df.columns = df.columns.str.replace(' ', '_')\n",
    "df.columns = df.columns.str.lower()"
   ]
  },
  {
   "cell_type": "code",
   "execution_count": null,
   "metadata": {},
   "outputs": [],
   "source": [
    "df.columns"
   ]
  },
  {
   "cell_type": "code",
   "execution_count": null,
   "metadata": {},
   "outputs": [],
   "source": [
    "df['created_date'] = pd.to_datetime(df['created_date'])\n",
    "df['created_timestamp'] = df['created_date']\n",
    "df['created_date'] = df['created_date'].dt.date\n",
    "\n",
    "temp = df.groupby('created_date').agg({'unique_key':'size'})\n",
    "#                                         .rename({'unique_key':'cnt'}, inplace=True)"
   ]
  },
  {
   "cell_type": "code",
   "execution_count": null,
   "metadata": {},
   "outputs": [],
   "source": [
    "fig = go.Figure([go.Scatter(x=temp.index, y=temp['unique_key'])])\n",
    "fig.update_xaxes(rangeslider_visible=True)\n",
    "fig.update_layout(\n",
    "    title={\n",
    "        'text': \"Daily 311 Calls\",\n",
    "        'y':0.9,\n",
    "        'x':0.5,\n",
    "        'xanchor': 'center',\n",
    "        'yanchor': 'top'})\n",
    "fig.show()"
   ]
  },
  {
   "cell_type": "code",
   "execution_count": null,
   "metadata": {
    "scrolled": false
   },
   "outputs": [],
   "source": [
    "df.complaint_type = df.complaint_type.str.title()\n",
    "df.complaint_type_original = df.complaint_type_original.str.title()\n",
    "\n",
    "df['complaint_type'].unique()"
   ]
  },
  {
   "cell_type": "code",
   "execution_count": null,
   "metadata": {},
   "outputs": [],
   "source": [
    "# complaint types\n",
    "df['complaint_type'].value_counts().iplot(kind='bar')\n",
    "# note the long tail"
   ]
  },
  {
   "cell_type": "code",
   "execution_count": null,
   "metadata": {},
   "outputs": [],
   "source": [
    "counts = df['complaint_type'].value_counts(dropna=False)\n",
    "\n",
    "# counts for complaints above 90th percentile\n",
    "valids = counts[counts>(np.percentile(counts, 95))].index\n",
    "\n",
    "df[df['complaint_type'].isin(valids)]['complaint_type'].value_counts().iplot(kind='bar')"
   ]
  },
  {
   "cell_type": "code",
   "execution_count": null,
   "metadata": {
    "scrolled": false
   },
   "outputs": [],
   "source": [
    "# responding agency\n",
    "\n",
    "def update_Office_SE(agency):\n",
    "\n",
    "    \"\"\"Takes in an agency name and converts to abbreviated form, if the agency is\n",
    "     the Office of Special Enforcement.\"\"\"\n",
    "\n",
    "    if agency == 'MAYORâ\\x80\\x99S OFFICE OF SPECIAL ENFORCEMENT':\n",
    "        return \"OSE\"\n",
    "    else:\n",
    "        return agency\n",
    "    \n",
    "df['agency'] = df['agency'].map(lambda agency: update_Office_SE(agency))\n",
    "\n",
    "df['agency'].value_counts().iplot(kind='bar')"
   ]
  },
  {
   "cell_type": "markdown",
   "metadata": {},
   "source": [
    "### Time series trends"
   ]
  },
  {
   "cell_type": "code",
   "execution_count": null,
   "metadata": {},
   "outputs": [],
   "source": [
    "def hour_call_freq(agency):\n",
    "    '''Takes in an agency name as a string. Returns a dataframe with agencies and the\n",
    "    total number of calls related to the given agency that were made\n",
    "    at each hour of the day.\n",
    "    '''\n",
    "    \n",
    "    subset = df[df['agency']==agency]\n",
    "\n",
    "    # init dict for storage\n",
    "    call_freqs_by_hour = {}\n",
    "\n",
    "    for hour in subset['hour']:\n",
    "\n",
    "        if hour not in call_freqs_by_hour: \n",
    "            call_freqs_by_hour[hour] = 1\n",
    "\n",
    "        else:\n",
    "            call_freqs_by_hour[hour] += 1\n",
    "\n",
    "    freq_df = pd.DataFrame.from_dict(call_freqs_by_hour, orient='index',\n",
    "                                   columns=['{}'.format(agency)])\n",
    "\n",
    "    return freq_df.sort_index()"
   ]
  },
  {
   "cell_type": "code",
   "execution_count": null,
   "metadata": {},
   "outputs": [],
   "source": [
    "# ls = ['NYPD', 'HPD', '']\n",
    "\n",
    "NYPD = hour_call_freq('NYPD')\n",
    "HPD = hour_call_freq('HPD')\n",
    "DOT = hour_call_freq('DOT')\n",
    "DSNY = hour_call_freq('DSNY')\n",
    "DEP = hour_call_freq('DEP')\n",
    "DOB = hour_call_freq('DOB')\n",
    "DPR = hour_call_freq('DPR')\n",
    "\n",
    "# def check_idx_len(df):\n",
    "#     if len(df) != 24:\n",
    "#         print (df.columns+' contains missing index.')\n",
    "#     else:\n",
    "#         pass\n",
    "    \n",
    "# check_idx_len(NYPD)\n",
    "# check_idx_len(DOF)\n",
    "# assert len(DOT) == 24\n",
    "# assert len(DSNY) == 24\n",
    "# assert len(DPR) == 24\n",
    "# assert len(HPD) == 24\n",
    "# assert len(DEP) == 24\n",
    "# assert len(DOB) == 24"
   ]
  },
  {
   "cell_type": "code",
   "execution_count": null,
   "metadata": {},
   "outputs": [],
   "source": [
    "total = NYPD.NYPD+HPD.HPD+DOT.DOT+DSNY.DSNY+DEP.DEP+DOB.DOB+DPR.DPR"
   ]
  },
  {
   "cell_type": "code",
   "execution_count": null,
   "metadata": {},
   "outputs": [],
   "source": [
    "font_dict = dict(size=20, color=\"#58508d\", fontweight='bold')\n",
    "title_font_dict = dict(size=27, color=\"#58508d\", fontweight='bold')\n",
    "\n",
    "plt.figure(figsize=(15, 15))\n",
    "plt.plot(NYPD.index, NYPD.NYPD, label=\"NYPD\", linewidth=5)\n",
    "plt.plot(HPD.index, HPD.HPD, label=\"HPD\", linewidth=5)\n",
    "plt.plot(DOT.index, DOT.DOT, label=\"DOT\", linewidth=5)\n",
    "plt.plot(DSNY.index, DSNY.DSNY, label=\"DSNY\", linewidth=5)\n",
    "\n",
    "plt.plot(DEP.index, DEP.DEP, label=\"DEP\", linewidth=5)\n",
    "plt.plot(DOB.index, DOB.DOB, label=\"DOB\", linewidth=5)\n",
    "plt.plot(DPR.index, DPR.DPR, label=\"DPR\", linewidth=5)\n",
    "plt.plot(total.index, total, label=\"Total\", linewidth=5)\n",
    "\n",
    "plt.ylabel('Total Calls', fontdict=font_dict)\n",
    "plt.xlabel('Hour', fontdict=font_dict)\n",
    "plt.title('Total Calls by Hour and Agency', fontdict=title_font_dict)\n",
    "plt.legend(title=\"Agency\", title_fontsize=20, fontsize=18, \n",
    "           bbox_to_anchor=[1,1]) #position legend outside of plot\n",
    "plt.xticks(fontsize=15)\n",
    "plt.yticks(fontsize=15)\n",
    "plt.xlim(right=23) \n",
    "plt.xlim(left=0) \n",
    "plt.grid()"
   ]
  },
  {
   "cell_type": "code",
   "execution_count": null,
   "metadata": {},
   "outputs": [],
   "source": [
    "def call_freq_df(complaint_type):\n",
    "  \n",
    "    \"\"\"Takes in a complaint type as a string. Returns a dataframe with dates \n",
    "     and the total number of calls related to the given complaint that were made \n",
    "     on each date.\"\"\"\n",
    "    \n",
    "    subset = df[df['complaint_type_original']==complaint_type]\n",
    "\n",
    "    call_freqs_by_date = {}\n",
    "\n",
    "    for date in pd.to_datetime(subset['created_date']):\n",
    "#         print(type(date))\n",
    "#         print(date.date())\n",
    "        if date.date() not in call_freqs_by_date: \n",
    "            call_freqs_by_date[date.date()] = 1\n",
    "\n",
    "        else:\n",
    "            call_freqs_by_date[date.date()] += 1\n",
    "\n",
    "    freq_df = pd.DataFrame.from_dict(call_freqs_by_date, orient='index', \n",
    "                                   columns=['{}'.format(complaint_type)])\n",
    "\n",
    "    return freq_df"
   ]
  },
  {
   "cell_type": "code",
   "execution_count": null,
   "metadata": {},
   "outputs": [],
   "source": [
    "def contain_substring(df, phrase):\n",
    "    cols = []\n",
    "\n",
    "    for i in df.complaint_type_original:\n",
    "        if phrase in i.lower() and i not in cols:\n",
    "            cols.append(i)\n",
    "    return cols"
   ]
  },
  {
   "cell_type": "code",
   "execution_count": null,
   "metadata": {},
   "outputs": [],
   "source": [
    "#create subsetted dataframes with complaints related to COVID-19\n",
    "ls1 = contain_substring(df, 'complian')\n",
    "ls2 = contain_substring(df, 'face cover')\n",
    "name_ls = ls1+ls2"
   ]
  },
  {
   "cell_type": "code",
   "execution_count": null,
   "metadata": {},
   "outputs": [],
   "source": [
    "reopen = call_freq_df('Noncompliance With Phased Reopening')\n",
    "vacc = call_freq_df('Vaccine Mandate Non-Compliance')\n",
    "vacc_priv = call_freq_df('Private School Vaccine Mandate Non-Compliance')\n",
    "cover = call_freq_df('Face Covering Violation')\n",
    "\n",
    "mgc = call_freq_df('Mass Gathering Complaint')"
   ]
  },
  {
   "cell_type": "code",
   "execution_count": null,
   "metadata": {},
   "outputs": [],
   "source": [
    "#create and show area plot for COVID-related complaints\n",
    "covid_fig = go.Figure()\n",
    "\n",
    "plot_ls = [reopen, vacc, vacc_priv, cover]\n",
    "\n",
    "for i in range(len(plot_ls)):\n",
    "    \n",
    "    covid_fig.add_trace(go.Scatter(\n",
    "        x=plot_ls[i].index, y=plot_ls[i][name_ls[i]],\n",
    "        hoverinfo='x+y',\n",
    "        mode='lines',\n",
    "        line=dict(width=0.5), name=name_ls[i],\n",
    "        stackgroup='one' \n",
    "    ))\n",
    "\n",
    "covid_fig.add_trace(go.Scatter(\n",
    "    x=mgc.index, y=mgc['Mass Gathering Complaint'],\n",
    "    hoverinfo='x+y',\n",
    "    mode='lines',\n",
    "    line=dict(width=0.5, color='#000000'), name=\"Mass Gathering Complaint\",\n",
    "    stackgroup='two'\n",
    "))\n",
    "    \n",
    "\n",
    "covid_fig.update_layout(legend=dict(\n",
    "    yanchor=\"top\",\n",
    "    y=0.99,\n",
    "    xanchor=\"left\",\n",
    "    x=0.001\n",
    "))\n",
    "\n",
    "\n",
    "covid_fig.update_layout(title=\"COVID-19\", height=700,\n",
    "                  xaxis_title=\"Date\",\n",
    "                  yaxis_title=\"Total Calls\", \n",
    "\n",
    "font=dict(family=\"silom\",\n",
    "          size=14, color=\"#58508d\"))\n",
    "\n",
    "covid_fig.show()"
   ]
  },
  {
   "cell_type": "code",
   "execution_count": null,
   "metadata": {},
   "outputs": [],
   "source": [
    "#create subsetted dataframes with complaints related to noise\n",
    "noise_r = call_freq_df('Noise - Residential')\n",
    "noise_c = call_freq_df('Noise - Commercial')\n",
    "noise_v = call_freq_df('Noise - Vehicle')\n",
    "noise_s = call_freq_df('Noise - Street/Sidewalk')\n",
    "noise = call_freq_df('Noise - Unspecified')"
   ]
  },
  {
   "cell_type": "code",
   "execution_count": null,
   "metadata": {},
   "outputs": [],
   "source": [
    "#create and show area plot\n",
    "noise_fig = go.Figure()\n",
    "\n",
    "noise_fig.add_trace(go.Scatter(\n",
    "    x=noise_r.index, y=noise_r['Noise - Residential'],\n",
    "    hoverinfo='x+y',\n",
    "    mode='lines',\n",
    "    line=dict(width=0.5, color='#003f5c'), name=\"Noise - Residential\",\n",
    "    stackgroup='one'\n",
    "))\n",
    "    \n",
    "noise_fig.add_trace(go.Scatter(\n",
    "    x=noise_s.index, y=noise_s['Noise - Street/Sidewalk'],\n",
    "    hoverinfo='x+y',\n",
    "    mode='lines',\n",
    "    line=dict(width=0.5, color='#58508d'), name='Noise - Street/Sidewalk',\n",
    "    stackgroup='two' \n",
    "))\n",
    "\n",
    "noise_fig.add_trace(go.Scatter(\n",
    "    x=noise_v.index, y=noise_v['Noise - Vehicle'],\n",
    "    hoverinfo='x+y',\n",
    "    mode='lines',\n",
    "    line=dict(width=0.5, color='#bc5090'), name='Noise - Vehicle',\n",
    "    stackgroup='three' \n",
    "))\n",
    "\n",
    "\n",
    "noise_fig.add_trace(go.Scatter(\n",
    "    x=noise_c.index, y=noise_c['Noise - Commercial'],\n",
    "    hoverinfo='x+y',\n",
    "    mode='lines',\n",
    "    line=dict(width=0.5, color='#ffa600'), name='Noise - Commercial',\n",
    "    stackgroup='four' \n",
    "))\n",
    "\n",
    "noise_fig.add_trace(go.Scatter(\n",
    "    x=noise.index, y=noise['Noise - Unspecified'],\n",
    "    hoverinfo='x+y',\n",
    "    mode='lines',\n",
    "    line=dict(width=0.5, color='#003f5c'), name=\"Noise - Unspecified\",\n",
    "    stackgroup='one'\n",
    "))\n",
    "\n",
    "noise_fig.update_layout(legend=dict(\n",
    "    yanchor=\"top\",\n",
    "    y=0.99,\n",
    "    xanchor=\"right\",\n",
    "    x=0.99\n",
    "))\n",
    "\n",
    "noise_fig.update_layout(title=\"Noise\", height=700,\n",
    "                  xaxis_title=\"Date\",\n",
    "                  yaxis_title=\"Total Calls\", \n",
    "\n",
    "font=dict(family=\"silom\",\n",
    "          size=14, color=\"#58508d\"))\n",
    "\n",
    "noise_fig.show()"
   ]
  },
  {
   "cell_type": "code",
   "execution_count": null,
   "metadata": {},
   "outputs": [],
   "source": [
    "#create subsetted dataframes with complaints related to street and noise condition \n",
    "street = call_freq_df('Street Condition')\n",
    "sidewalk = call_freq_df('Sidewalk Condition')"
   ]
  },
  {
   "cell_type": "code",
   "execution_count": null,
   "metadata": {},
   "outputs": [],
   "source": [
    "#create and show area plot\n",
    "condition_fig = go.Figure()\n",
    "condition_fig.add_trace(go.Scatter(\n",
    "    x=street.index, y=street[\"Street Condition\"],\n",
    "    hoverinfo='x+y',\n",
    "    mode='lines',\n",
    "    line=dict(width=0.5, color='#22DDD3'), name=\"Street Condition\",\n",
    "    stackgroup='one'\n",
    "    ))\n",
    "    \n",
    "condition_fig.add_trace(go.Scatter(\n",
    "    x=sidewalk.index, y=sidewalk[\"Sidewalk Condition\"],\n",
    "    hoverinfo='x+y',\n",
    "    mode='lines',\n",
    "    line=dict(width=0.5, color='#6722DD'), name=\"Sidewalk Condition\",\n",
    "    stackgroup='one' \n",
    "\n",
    "\n",
    "))\n",
    "\n",
    "condition_fig.update_layout(legend=dict(\n",
    "    yanchor=\"top\",\n",
    "    y=0.99,\n",
    "    xanchor=\"right\",\n",
    "    x=0.99\n",
    "))\n",
    "\n",
    "condition_fig.update_layout(title=\"Sidewalk and Street Condition\", height=700,\n",
    "                  xaxis_title=\"Date\",\n",
    "                  yaxis_title=\"Total Calls\", \n",
    "\n",
    "font=dict(family=\"silom\",\n",
    "          size=14, color=\"#58508d\"))\n",
    "\n",
    "condition_fig.show()"
   ]
  },
  {
   "cell_type": "code",
   "execution_count": null,
   "metadata": {},
   "outputs": [],
   "source": [
    "#create subsetted dataframes with complaints related to trees\n",
    "dt = call_freq_df('Damaged Tree')\n",
    "ot = call_freq_df('Overgrown Tree/Branches')\n",
    "dd = call_freq_df('Dead/Dying Tree')\n",
    "nt = call_freq_df('New Tree Request')"
   ]
  },
  {
   "cell_type": "code",
   "execution_count": null,
   "metadata": {},
   "outputs": [],
   "source": [
    "#create and show area plot (damaged trees)\n",
    "damaged_tree_fig = go.Figure()\n",
    "damaged_tree_fig.add_trace(go.Scatter(\n",
    "    x=dt.index, y=dt[\"Damaged Tree\"],\n",
    "    hoverinfo='x+y',\n",
    "    mode='lines',\n",
    "    line=dict(width=0.5, color='#228B22'), name=\"Damaged Trees\",\n",
    "    stackgroup='one'\n",
    "    ))\n",
    "\n",
    "damaged_tree_fig.update_layout(title=\"Damaged Trees\", height=700,\n",
    "                  xaxis_title=\"Date\",\n",
    "                  yaxis_title=\"Total Calls\", \n",
    "\n",
    "font=dict(family=\"silom\",\n",
    "          size=14, color=\"#58508d\"))\n",
    "\n",
    "damaged_tree_fig.show()"
   ]
  },
  {
   "cell_type": "markdown",
   "metadata": {},
   "source": [
    "## Heatmaps for call volume"
   ]
  },
  {
   "cell_type": "code",
   "execution_count": null,
   "metadata": {},
   "outputs": [],
   "source": [
    "#Subset the data by month\n",
    "June = df[df.month==6].sample(frac =.5).sort_values(by='day')\n",
    "# July = df[df.month==7].sample(frac =.5).sort_values(by='day')\n",
    "# August = df[df.month==8].sample(frac =.1).sort_values(by='day')\n",
    "# September = df[df.month==9].sample(frac =.5).sort_values(by='day')\n",
    "# October = df[df.month==10].sample(frac =.5).sort_values(by='day')\n",
    "# November = df[df.month==11].sample(frac =.5).sort_values(by='day')"
   ]
  },
  {
   "cell_type": "code",
   "execution_count": null,
   "metadata": {},
   "outputs": [],
   "source": [
    "June.head()"
   ]
  },
  {
   "cell_type": "code",
   "execution_count": null,
   "metadata": {},
   "outputs": [],
   "source": [
    "def plot_calls(month_df, month):\n",
    "  \n",
    "    \"\"\"Takes in a subsetted dataframe with the data for a given month, and the \n",
    "       name of the month as a string. Returns an animated mapbox density heatmap\n",
    "       to show variation in call volume across time and space.\"\"\"\n",
    "\n",
    "    fig = px.density_mapbox(month_df, lat=month_df['latitude'], \n",
    "                            lon=month_df['longitude'], \n",
    "                            radius=2,\n",
    "                            animation_frame=month_df[\"day\"],\n",
    "                            hover_name=None, \n",
    "                            hover_data=['complaint_type', 'community_board'],\n",
    "                            width=550, height=550,\n",
    "                            color_continuous_scale=px.colors.sequential.Inferno\n",
    "                                                            )\n",
    "    fig.update_layout(mapbox_style=\"carto-positron\", mapbox_zoom=8.5, \n",
    "                  mapbox_center = {\"lat\": 40.6885, \"lon\": -73.93211},)\n",
    "                      \n",
    "    fig.layout.coloraxis.showscale = False    \n",
    "                      \n",
    "    fig.update_layout(title={\n",
    "        'text': 'Call Volume in {}'.format(month),\n",
    "        'x':0.5,\n",
    "        'xanchor': 'center',\n",
    "        'yanchor': 'top'}),\n",
    "\n",
    "    font=dict(family=\"silom\",\n",
    "              size=14, color=\"#58508d\")\n",
    "\n",
    "    fig.update_layout(transition = {'duration': 10})\n",
    "\n",
    "    fig.show()"
   ]
  },
  {
   "cell_type": "code",
   "execution_count": null,
   "metadata": {},
   "outputs": [],
   "source": [
    "plot_calls(June, 'June')"
   ]
  },
  {
   "cell_type": "code",
   "execution_count": null,
   "metadata": {},
   "outputs": [],
   "source": []
  }
 ],
 "metadata": {
  "kernelspec": {
   "display_name": "Python 3 (ipykernel)",
   "language": "python",
   "name": "python3"
  },
  "language_info": {
   "codemirror_mode": {
    "name": "ipython",
    "version": 3
   },
   "file_extension": ".py",
   "mimetype": "text/x-python",
   "name": "python",
   "nbconvert_exporter": "python",
   "pygments_lexer": "ipython3",
   "version": "3.10.2"
  }
 },
 "nbformat": 4,
 "nbformat_minor": 4
}
