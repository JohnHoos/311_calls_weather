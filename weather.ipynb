{
 "cells": [
  {
   "cell_type": "code",
   "execution_count": null,
   "metadata": {},
   "outputs": [],
   "source": [
    "import pandas as pd\n",
    "import numpy as np\n",
    "import datetime as dt\n",
    "import matplotlib.pyplot as plt\n",
    "import matplotlib\n",
    "import cufflinks as cf\n",
    "import plotly\n",
    "import plotly.offline as py\n",
    "import plotly.graph_objs as go\n",
    "import plotly.express as px\n",
    "import seaborn as sns\n",
    "import random\n",
    "import plotly.io as pio\n",
    "import missingno as msno\n",
    "\n",
    "cf.go_offline() # required to use plotly offline (no account required).\n",
    "py.init_notebook_mode() # graphs charts inline (IPython)."
   ]
  },
  {
   "cell_type": "markdown",
   "metadata": {},
   "source": [
    "## Query and clean data"
   ]
  },
  {
   "cell_type": "code",
   "execution_count": null,
   "metadata": {},
   "outputs": [],
   "source": [
    "weather = pd.read_csv('weather_NY_2010_2018Nov.csv')\n",
    "print(weather.shape)\n",
    "weather.head()"
   ]
  },
  {
   "cell_type": "code",
   "execution_count": null,
   "metadata": {},
   "outputs": [],
   "source": [
    "weather.describe()"
   ]
  },
  {
   "cell_type": "code",
   "execution_count": null,
   "metadata": {},
   "outputs": [],
   "source": [
    "weather.info()"
   ]
  },
  {
   "cell_type": "code",
   "execution_count": null,
   "metadata": {},
   "outputs": [],
   "source": [
    "weather.isnull().sum() / len(weather)*100"
   ]
  },
  {
   "cell_type": "code",
   "execution_count": null,
   "metadata": {},
   "outputs": [],
   "source": [
    "weather.sort_values(by=['Year', 'Month', 'Day'], inplace=True)"
   ]
  },
  {
   "cell_type": "code",
   "execution_count": null,
   "metadata": {
    "scrolled": false
   },
   "outputs": [],
   "source": [
    "# visualize missing data (white spaces)\n",
    "msno.matrix(weather)"
   ]
  },
  {
   "cell_type": "markdown",
   "metadata": {},
   "source": [
    "Here, we are assuming on days where SnowDepth is missing, there is no snow event instead of being a missing data point"
   ]
  },
  {
   "cell_type": "code",
   "execution_count": null,
   "metadata": {},
   "outputs": [],
   "source": [
    "weather['SnowDepth'].fillna(0, inplace=True)"
   ]
  },
  {
   "cell_type": "code",
   "execution_count": null,
   "metadata": {},
   "outputs": [],
   "source": [
    "# construct a single date col\n",
    "weather['Date'] = pd.to_datetime(weather[[\"Year\", \"Month\", \"Day\"]])"
   ]
  },
  {
   "cell_type": "code",
   "execution_count": null,
   "metadata": {},
   "outputs": [],
   "source": [
    "weather.to_csv('weather_cleaned.csv', index=False)"
   ]
  },
  {
   "cell_type": "markdown",
   "metadata": {},
   "source": [
    "# EDA"
   ]
  },
  {
   "cell_type": "code",
   "execution_count": null,
   "metadata": {},
   "outputs": [],
   "source": [
    "df = pd.read_csv('weather_cleaned.csv')\n",
    "df.head()\n"
   ]
  },
  {
   "cell_type": "code",
   "execution_count": null,
   "metadata": {},
   "outputs": [],
   "source": [
    "df.columns"
   ]
  },
  {
   "cell_type": "markdown",
   "metadata": {},
   "source": [
    "Various temperature derivatives are correlated, as are that of wind speed. There is also a moderately strong correlation between temperature derivatives and month, as season would dictate. There is also a strong negative correlation between snow (SnowDepth, SnowIce) and temperature derivatives."
   ]
  },
  {
   "cell_type": "code",
   "execution_count": null,
   "metadata": {},
   "outputs": [],
   "source": [
    "df.corr()"
   ]
  },
  {
   "cell_type": "code",
   "execution_count": null,
   "metadata": {},
   "outputs": [],
   "source": [
    "sns.heatmap(df.corr())"
   ]
  },
  {
   "cell_type": "markdown",
   "metadata": {},
   "source": [
    "# Group and aggregate by variables"
   ]
  },
  {
   "cell_type": "code",
   "execution_count": null,
   "metadata": {},
   "outputs": [],
   "source": [
    "df_agg_date = df.iloc[:,4:].groupby('Date').mean()"
   ]
  },
  {
   "cell_type": "code",
   "execution_count": null,
   "metadata": {},
   "outputs": [],
   "source": [
    "#create and show area plot\n",
    "temp_fig = go.Figure()\n",
    "\n",
    "temp_fig.add_trace(go.Scatter(\n",
    "    x=df_agg_date.index, y=df_agg_date['MeanTemp'],\n",
    "    hoverinfo='x+y',\n",
    "    mode='lines',\n",
    "    line=dict(width=0.5, color='#003f5c'), name=\"Mean Temperature\",\n",
    "    stackgroup='two'\n",
    "))\n",
    "\n",
    "temp_fig.add_trace(go.Scatter(\n",
    "    x=df_agg_date.index, y=df_agg_date['MinTemp'],\n",
    "    hoverinfo='x+y',\n",
    "    mode='lines',\n",
    "    line=dict(width=0.5, color='#58508d'), name=\"Min Temperature\",\n",
    "    stackgroup='three'\n",
    "))\n",
    "temp_fig.add_trace(go.Scatter(\n",
    "    x=df_agg_date.index, y=df_agg_date['MaxTemp'],\n",
    "    hoverinfo='x+y',\n",
    "    mode='lines',\n",
    "    line=dict(width=0.5, color='#bc5090'), name='Max Temperature',\n",
    "    stackgroup='one' \n",
    "))"
   ]
  },
  {
   "cell_type": "code",
   "execution_count": null,
   "metadata": {},
   "outputs": [],
   "source": [
    "wind_fig = go.Figure()\n",
    "\n",
    "wind_fig.add_trace(go.Scatter(\n",
    "    x=df_agg_date.index, y=df_agg_date['WindSpeed'],\n",
    "    hoverinfo='x+y',\n",
    "    mode='lines',\n",
    "    line=dict(width=0.5), name='Wind Speed',\n",
    "    stackgroup='three' \n",
    "))\n",
    "\n",
    "wind_fig.add_trace(go.Scatter(\n",
    "    x=df_agg_date.index, y=df_agg_date['MaxSustainedWind'],\n",
    "    hoverinfo='x+y',\n",
    "    mode='lines',\n",
    "    line=dict(width=0.5), name='Max Sustained Wind',\n",
    "    stackgroup='two' \n",
    "))\n",
    "\n",
    "wind_fig.add_trace(go.Scatter(\n",
    "    x=df_agg_date.index, y=df_agg_date['Gust'],\n",
    "    hoverinfo='x+y',\n",
    "    mode='lines',\n",
    "    line=dict(width=0.5), name='Wind Gust',\n",
    "    stackgroup='one' \n",
    "))"
   ]
  },
  {
   "cell_type": "code",
   "execution_count": null,
   "metadata": {},
   "outputs": [],
   "source": [
    "df_std_date = df.groupby(['Date'], as_index=True).std()\n",
    "# df_std_date.reset_index(level=0, inplace=True)\n",
    "df_std_date"
   ]
  },
  {
   "cell_type": "code",
   "execution_count": null,
   "metadata": {},
   "outputs": [],
   "source": [
    "wind_fig = go.Figure()\n",
    "\n",
    "wind_fig.add_trace(go.Scatter(\n",
    "    x=df_std_date.index, y=df_std_date['WindSpeed'],\n",
    "    hoverinfo='x+y',\n",
    "    mode='lines',\n",
    "    line=dict(width=0.5), name='Wind Speed',\n",
    "    stackgroup='three' \n",
    "))\n",
    "\n",
    "wind_fig.update_layout(height=600, width=600)\n",
    "wind_fig.update_layout(\n",
    "    title={\n",
    "        'text': \"Standard Deviatioin of Wind Speed\",\n",
    "        'y':0.9,\n",
    "        'x':0.5,\n",
    "        'xanchor': 'center',\n",
    "        'yanchor': 'top'},\n",
    "        yaxis=dict(title='Speed'))\n",
    "# wind_fig.add_trace(go.Scatter(\n",
    "#     x=df_std_date.year, y=df_std_date['MaxSustainedWind'],\n",
    "#     hoverinfo='x+y',\n",
    "#     mode='lines',\n",
    "#     line=dict(width=0.5), name='Max Sustained Wind',\n",
    "#     stackgroup='two' \n",
    "# ))\n",
    "\n",
    "# wind_fig.add_trace(go.Scatter(\n",
    "#     x=df_std_date.year, y=df_std_date['Gust'],\n",
    "#     hoverinfo='x+y',\n",
    "#     mode='lines',\n",
    "#     line=dict(width=0.5), name='Wind Gust',\n",
    "#     stackgroup='one' \n",
    "# ))"
   ]
  },
  {
   "cell_type": "markdown",
   "metadata": {},
   "source": [
    "Wind speed appears to have higher standard deviation as time passes, whereas wind gust doesn't experience the same patten. It is hypothesized that with climate change, more extreme wether pattern would become more frequent."
   ]
  },
  {
   "cell_type": "code",
   "execution_count": null,
   "metadata": {},
   "outputs": [],
   "source": [
    "import plotly.express as px\n",
    "\n",
    "fig = px.scatter(x=df_std_date.index, y=df_std_date['WindSpeed'])\n",
    "fig.show()"
   ]
  },
  {
   "cell_type": "code",
   "execution_count": null,
   "metadata": {},
   "outputs": [],
   "source": [
    "df_std_date = df.groupby(['Year'], as_index=True).std()\n",
    "# df_std_date.reset_index(level=0, inplace=True)\n",
    "df_std_date"
   ]
  },
  {
   "cell_type": "code",
   "execution_count": null,
   "metadata": {},
   "outputs": [],
   "source": []
  }
 ],
 "metadata": {
  "kernelspec": {
   "display_name": "Python 3 (ipykernel)",
   "language": "python",
   "name": "python3"
  },
  "language_info": {
   "codemirror_mode": {
    "name": "ipython",
    "version": 3
   },
   "file_extension": ".py",
   "mimetype": "text/x-python",
   "name": "python",
   "nbconvert_exporter": "python",
   "pygments_lexer": "ipython3",
   "version": "3.10.2"
  }
 },
 "nbformat": 4,
 "nbformat_minor": 2
}
